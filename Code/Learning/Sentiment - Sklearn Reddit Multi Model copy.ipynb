{
 "cells": [
  {
   "cell_type": "code",
   "execution_count": 53,
   "metadata": {},
   "outputs": [],
   "source": [
    "import os, sys\n",
    "import torch\n",
    "import pandas as pd\n",
    "import numpy as np\n",
    "import matplotlib.pyplot as plt\n",
    "import torchtext \n",
    "from sklearn.feature_extraction.text import TfidfVectorizer \n",
    "from sklearn.metrics import classification_report\n",
    "from sklearn import svm, model_selection, preprocessing, CountVectorizer"
   ]
  },
  {
   "cell_type": "code",
   "execution_count": 26,
   "metadata": {},
   "outputs": [],
   "source": [
    "dataFile = '../Data/Reddit_News_DJIA_clean2.csv'"
   ]
  },
  {
   "cell_type": "code",
   "execution_count": 27,
   "metadata": {},
   "outputs": [],
   "source": [
    "# Combine news titles into 1 feature\n",
    "def transform(sample):\n",
    "    return {'label': sample['label'], 'features': ' '.join(np.array(sample['features']))} "
   ]
  },
  {
   "cell_type": "code",
   "execution_count": 29,
   "metadata": {},
   "outputs": [
    {
     "name": "stdout",
     "output_type": "stream",
     "text": [
      "0 Label = 0 Features = georgia downs two russian warplanes countries move brink war breaking musharraf impeached russia today columns troops roll south ossetia footage fighting youtube russian tanks moving towards capital south ossetia reportedly completely destroyed georgian artillery fire afghan children raped impunity n official says sick three year old raped nothing 150 russian tanks entered south ossetia whilst georgia shoots two russian jets breaking georgia invades south ossetia russia warned would intervene side enemy combatent trials nothing sham salim haman sentenced 5 1 2 years kept longer anyway feel like georgian troops retreat osettain capital presumably leaving several hundred people killed video prep georgia war russia rice gives green light israel attack iran says veto israeli military ops announcing class action lawsuit behalf american public fbi russia georgia war nyt top story opening ceremonies olympics fucking disgrace yet proof decline journalism china tells bush stay countries affairs world war iii start today georgia invades south ossetia russia gets involved nato absorb georgia unleash full scale war al qaeda faces islamist backlash condoleezza rice us would not act prevent israeli strike iran israeli defense minister ehud barak israel prepared uncompromising victory case military hostilities busy day european union approved new sanctions iran protest nuclear programme georgia withdraw 1 000 soldiers iraq help fight russian forces georgia breakaway region south ossetia pentagon thinks attacking iran bad idea us news amp world report caucasus crisis georgia invades south ossetia indian shoe manufactory series not like work visitors suffering mental illnesses banned olympics help mexico kidnapping surge\n",
      "1 Label = 1 Features = not america nato help us not help us help iraq bush puts foot georgian conflict jewish georgian minister thanks israeli training fending russia georgian army flees disarray russians advance gori abandoned russia without shot fired olympic opening ceremony fireworks faked mossad fraudulent new zealand passports iraq russia angered israeli military sale georgia american citizen living ossetia blames georgian leaders genocide innocent people welcome world war iv high definition georgia move mistake monumental proportions russia presses deeper georgia says regime change goal abhinav bindra wins first ever individual olympic gold medal india ship heads arctic define territory drivers jerusalem taxi station threaten quit rather work new boss ara french team stunned phelps 4x100m relay team israel us behind georgian aggression not believe tv neither russian georgian much victims riots still going montreal canada police murdered boy saturday china overtake us largest manufacturer war south ossetia pics israeli physicians group condemns state torture russia beaten united states head peak oil perhaps question georgia russia conflict russia much better war come trading sex food\n",
      "2 Label = 0 Features = remember adorable 9 year old sang opening ceremonies fake russia ends georgia operation sexual harassment would children al qa eda losing support iraq brutal crackdown activities regards un islamic including women buying cucumbers ceasefire georgia putin outmaneuvers west microsoft intel tried kill xo money 100 laptop stratfor russo georgian war balance power trying get sense whole georgia russia war vote think georgia started think russia us military surprised timing swiftness russian military move south ossetia still trying sort happened us defense official said monday beats war drum iran dumps dollar gorbachev georgian military attacked south ossetian capital tskhinvali multiple rocket launchers designed devastate large areas cnn use footage tskhinvali ruins cover georgian report video beginning war olympics opening violates ancient tradition truce conflict games ioc could respond taking 2014 games away russia 55 pyramids large luxor stacked mega city pyramid tokyo bay 11 top party cities world troops still georgia know georgia first place russias response georgia right gorbachev accuses making serious blunder pursuing interest caucasus region russia georgia nato cold war two remember adorable 62 year old led country war based evidence fake war georgia israeli connection signs point us encouraging georgia invade south ossetia goddamnit bush christopher king argues us nato behind georgian invasion south ossetia misjudged russian resolve america new mexico bbc news asia pacific extinction man not climate\n",
      "3 Label = 0 Features = refuses israel weapons attack iran report president ordered attack tskhinvali capital south ossetia knew doomed come not realize israel clears troops killed reuters cameraman britain policy tough drugs pointless says former civil servant ran cabinet anti drugs unit body 14 year old found trunk latest ransom paid kidnapping victim mexico head cop quits prez dissolves suspect elite task force china moved 10 million quake survivors prefab homes bush announces operation get russia grill yeah end well russian forces sink georgian ships commander navy air reconnaissance squadron provides president defense secretary airborne ability command nation nuclear weapons relieved duty 92 cnn readers russia actions georgia justified usa send fleet black sea help georgia send troops humanitarian aid exercise us warns israeli plan strike iran nuclear facilities intriguing cyberalliance two estonian computer experts heading georgia keep country networks running amid intense military confrontation russia cnn effect georgia schools russia information warfare russias response georgia right elephants extinct 2020 us humanitarian missions soon georgia russia hits us wwiii georgia ddos came us sources russian convoy heads georgia violating truce israeli defence minister us strike iran gorbachev choice witness russian forces head towards tbilisi breach ceasefire agreement quarter russians blame conflict poll georgian president says us military take control seaports airports pentagon denies 2006 nobel laureate aleksander solzhenitsyn accuses nato encircling russia\n"
     ]
    }
   ],
   "source": [
    "parentPath = os.path.abspath('.')\n",
    "sys.path.append(parentPath)\n",
    "from RedditDJIA import RedditNewsDJIADataset\n",
    "\n",
    "train_newsDataFrame = RedditNewsDJIADataset(dataFile, train = True, transform=transform)\n",
    "for i, row in enumerate(train_newsDataFrame):\n",
    "    #print(row)\n",
    "    print(i, \"Label =\", row['label'], \"Features =\", row['features'])\n",
    "\n",
    "    if i == 3:\n",
    "        break\n",
    "\n",
    "test_newsDataFrame = RedditNewsDJIADataset(dataFile, train = False, transform=transform)\n",
    "\n"
   ]
  },
  {
   "cell_type": "code",
   "execution_count": 37,
   "metadata": {},
   "outputs": [
    {
     "ename": "IndexError",
     "evalue": "only integers, slices (`:`), ellipsis (`...`), numpy.newaxis (`None`) and integer or boolean arrays are valid indices",
     "output_type": "error",
     "traceback": [
      "\u001b[1;31m---------------------------------------------------------------------------\u001b[0m",
      "\u001b[1;31mIndexError\u001b[0m                                Traceback (most recent call last)",
      "Cell \u001b[1;32mIn [37], line 2\u001b[0m\n\u001b[0;32m      1\u001b[0m \u001b[39m# return row 0, combined features\u001b[39;00m\n\u001b[1;32m----> 2\u001b[0m train_newsDataFrame[\u001b[39m'\u001b[39;49m\u001b[39mfeatures\u001b[39;49m\u001b[39m'\u001b[39;49m]\n",
      "File \u001b[1;32mc:\\Users\\micha\\OneDrive\\Documents\\1 - Projects\\CS 410 Text Information Systems\\Project\\CS410CourseProject\\Code\\RedditDJIA.py:33\u001b[0m, in \u001b[0;36mRedditNewsDJIADataset.__getitem__\u001b[1;34m(self, index)\u001b[0m\n\u001b[0;32m     30\u001b[0m \u001b[39mif\u001b[39;00m torch\u001b[39m.\u001b[39mis_tensor(index):\n\u001b[0;32m     31\u001b[0m     index \u001b[39m=\u001b[39m index\u001b[39m.\u001b[39mtolist()\n\u001b[1;32m---> 33\u001b[0m label \u001b[39m=\u001b[39m \u001b[39mself\u001b[39;49m\u001b[39m.\u001b[39;49mdataFrame\u001b[39m.\u001b[39;49mLabel\u001b[39m.\u001b[39;49mvalues[index]\n\u001b[0;32m     34\u001b[0m features \u001b[39m=\u001b[39m \u001b[39mself\u001b[39m\u001b[39m.\u001b[39mdataFrame\u001b[39m.\u001b[39miloc[index,\u001b[39m2\u001b[39m:]\u001b[39m.\u001b[39mvalues\n\u001b[0;32m     35\u001b[0m features \u001b[39m=\u001b[39m np\u001b[39m.\u001b[39masarray(features,dtype\u001b[39m=\u001b[39m\u001b[39mstr\u001b[39m)\n",
      "\u001b[1;31mIndexError\u001b[0m: only integers, slices (`:`), ellipsis (`...`), numpy.newaxis (`None`) and integer or boolean arrays are valid indices"
     ]
    }
   ],
   "source": [
    "# return row 0, combined features\n",
    "train_newsDataFrame[0]['features']"
   ]
  },
  {
   "cell_type": "code",
   "execution_count": null,
   "metadata": {},
   "outputs": [],
   "source": [
    "# how to get features from each row\n",
    "for row in train_newsDataFrame:\n",
    "    #print(row['features'])\n",
    "    pass"
   ]
  },
  {
   "cell_type": "code",
   "execution_count": 38,
   "metadata": {},
   "outputs": [],
   "source": [
    "\n",
    "train_data = []\n",
    "train_labels = []\n",
    "for row in train_newsDataFrame:\n",
    "    train_data.append(row['features'])\n",
    "    train_labels.append(row['label'])\n",
    "\n",
    "test_data = [] \n",
    "test_labels = [] \n",
    "for row in test_newsDataFrame:\n",
    "    test_data.append(row['features']) \n",
    "    test_labels.append(row['label'])"
   ]
  },
  {
   "cell_type": "code",
   "execution_count": 49,
   "metadata": {},
   "outputs": [],
   "source": [
    "# Create feature vectors \n",
    "vectorizer = TfidfVectorizer(min_df=5, max_df=0.9)\n",
    "# Train the feature vectors\n",
    "train_vectors = vectorizer.fit_transform(train_data)\n",
    "# Apply model on test data \n",
    "test_vectors = vectorizer.transform(test_data)"
   ]
  },
  {
   "cell_type": "code",
   "execution_count": 46,
   "metadata": {},
   "outputs": [
    {
     "data": {
      "text/plain": [
       "<1x31120 sparse matrix of type '<class 'numpy.float64'>'\n",
       "\twith 184 stored elements in Compressed Sparse Row format>"
      ]
     },
     "execution_count": 46,
     "metadata": {},
     "output_type": "execute_result"
    }
   ],
   "source": [
    "train_vectors[0]"
   ]
  },
  {
   "cell_type": "code",
   "execution_count": 50,
   "metadata": {},
   "outputs": [
    {
     "name": "stdout",
     "output_type": "stream",
     "text": [
      "              precision    recall  f1-score   support\n",
      "\n",
      "           0       0.44      0.26      0.33       196\n",
      "           1       0.49      0.68      0.57       202\n",
      "\n",
      "    accuracy                           0.47       398\n",
      "   macro avg       0.46      0.47      0.45       398\n",
      "weighted avg       0.46      0.47      0.45       398\n",
      "\n"
     ]
    }
   ],
   "source": [
    "# Perform classification with SVM, kernel=linear \n",
    "model = svm.SVC(kernel='linear') \n",
    "model.fit(train_vectors, train_labels) \n",
    "prediction = model.predict(test_vectors)\n",
    "print (classification_report(test_labels, prediction))"
   ]
  },
  {
   "cell_type": "markdown",
   "metadata": {},
   "source": []
  },
  {
   "cell_type": "code",
   "execution_count": 54,
   "metadata": {},
   "outputs": [],
   "source": [
    "trainDF = pd.DataFrame()\n",
    "trainDF['text'] = test_data\n",
    "trainDF['label'] = test_labels"
   ]
  },
  {
   "cell_type": "code",
   "execution_count": 55,
   "metadata": {},
   "outputs": [],
   "source": [
    "# split the dataset into training and validation datasets \n",
    "train_x, valid_x, train_y, valid_y = model_selection.train_test_split(trainDF['text'], trainDF['label'])\n",
    "\n",
    "# label encode the target variable \n",
    "encoder = preprocessing.LabelEncoder()\n",
    "train_y = encoder.fit_transform(train_y)\n",
    "valid_y = encoder.fit_transform(valid_y)"
   ]
  },
  {
   "cell_type": "code",
   "execution_count": 57,
   "metadata": {},
   "outputs": [],
   "source": [
    "# word level tf-idf\n",
    "tfidf_vect = TfidfVectorizer(analyzer='word', max_features=5000)\n",
    "tfidf_vect.fit(trainDF['text'])\n",
    "xtrain_tfidf =  tfidf_vect.transform(train_x)\n",
    "xvalid_tfidf =  tfidf_vect.transform(valid_x)\n",
    "\n",
    "# ngram level tf-idf \n",
    "tfidf_vect_ngram = TfidfVectorizer(analyzer='word', ngram_range=(2,3), max_features=5000)\n",
    "tfidf_vect_ngram.fit(trainDF['text'])\n",
    "xtrain_tfidf_ngram =  tfidf_vect_ngram.transform(train_x)\n",
    "xvalid_tfidf_ngram =  tfidf_vect_ngram.transform(valid_x)\n",
    "\n",
    "# characters level tf-idf\n",
    "tfidf_vect_ngram_chars = TfidfVectorizer(analyzer='char', token_pattern=r'\\w{1,}', ngram_range=(2,3), max_features=5000)\n",
    "tfidf_vect_ngram_chars.fit(trainDF['text'])\n",
    "xtrain_tfidf_ngram_chars =  tfidf_vect_ngram_chars.transform(train_x) \n",
    "xvalid_tfidf_ngram_chars =  tfidf_vect_ngram_chars.transform(valid_x) "
   ]
  },
  {
   "cell_type": "markdown",
   "metadata": {},
   "source": [
    "Count Vectors"
   ]
  },
  {
   "cell_type": "code",
   "execution_count": 58,
   "metadata": {},
   "outputs": [
    {
     "ename": "NameError",
     "evalue": "name 'CountVectorizer' is not defined",
     "output_type": "error",
     "traceback": [
      "\u001b[1;31m---------------------------------------------------------------------------\u001b[0m",
      "\u001b[1;31mNameError\u001b[0m                                 Traceback (most recent call last)",
      "Cell \u001b[1;32mIn [58], line 2\u001b[0m\n\u001b[0;32m      1\u001b[0m \u001b[39m# create a count vectorizer object \u001b[39;00m\n\u001b[1;32m----> 2\u001b[0m count_vect \u001b[39m=\u001b[39m CountVectorizer(analyzer\u001b[39m=\u001b[39m\u001b[39m'\u001b[39m\u001b[39mword\u001b[39m\u001b[39m'\u001b[39m, token_pattern\u001b[39m=\u001b[39m\u001b[39mr\u001b[39m\u001b[39m'\u001b[39m\u001b[39m\\\u001b[39m\u001b[39mw\u001b[39m\u001b[39m{\u001b[39m\u001b[39m1,}\u001b[39m\u001b[39m'\u001b[39m)\n\u001b[0;32m      3\u001b[0m count_vect\u001b[39m.\u001b[39mfit(trainDF[\u001b[39m'\u001b[39m\u001b[39mtext\u001b[39m\u001b[39m'\u001b[39m])\n\u001b[0;32m      5\u001b[0m \u001b[39m# transform the training and validation data using count vectorizer object\u001b[39;00m\n",
      "\u001b[1;31mNameError\u001b[0m: name 'CountVectorizer' is not defined"
     ]
    }
   ],
   "source": [
    "# create a count vectorizer object \n",
    "count_vect = CountVectorizer(analyzer='word', token_pattern=r'\\w{1,}')\n",
    "count_vect.fit(trainDF['text'])\n",
    "\n",
    "# transform the training and validation data using count vectorizer object\n",
    "xtrain_count =  count_vect.transform(train_x)\n",
    "xvalid_count =  count_vect.transform(valid_x)"
   ]
  }
 ],
 "metadata": {
  "kernelspec": {
   "display_name": "Python 3.10.8 ('.venv': venv)",
   "language": "python",
   "name": "python3"
  },
  "language_info": {
   "codemirror_mode": {
    "name": "ipython",
    "version": 3
   },
   "file_extension": ".py",
   "mimetype": "text/x-python",
   "name": "python",
   "nbconvert_exporter": "python",
   "pygments_lexer": "ipython3",
   "version": "3.10.8"
  },
  "orig_nbformat": 4,
  "vscode": {
   "interpreter": {
    "hash": "51d32a615755070830a1e212317cdba8790c54f51db92b1c7f00b70a02f13d97"
   }
  }
 },
 "nbformat": 4,
 "nbformat_minor": 2
}
