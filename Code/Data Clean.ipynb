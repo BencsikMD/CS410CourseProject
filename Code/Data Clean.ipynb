{
 "cells": [
  {
   "cell_type": "code",
   "execution_count": null,
   "metadata": {},
   "outputs": [],
   "source": [
    "import os\n",
    "parentPath = os.path.abspath('.')\n",
    "from RedditDJIA import CleanRedditNewsDJIA\n",
    "\n",
    "clean = CleanRedditNewsDJIA('../Data/Reddit_News_DJIA.csv')\n",
    "clean.cleanUp()"
   ]
  }
 ],
 "metadata": {
  "language_info": {
   "name": "python"
  },
  "orig_nbformat": 4
 },
 "nbformat": 4,
 "nbformat_minor": 2
}
