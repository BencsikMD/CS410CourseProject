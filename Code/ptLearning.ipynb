{
 "cells": [
  {
   "cell_type": "code",
   "execution_count": null,
   "metadata": {},
   "outputs": [],
   "source": [
    "import os, sys\n",
    "import torch\n",
    "import pandas as pd\n",
    "import numpy as np\n",
    "import matplotlib.pyplot as plt\n"
   ]
  },
  {
   "cell_type": "code",
   "execution_count": null,
   "metadata": {},
   "outputs": [],
   "source": [
    "redditNewsDf = pd.read_csv('../Data/Reddit_News_DJIA.csv')\n",
    "redditNewsDf.head(1)"
   ]
  },
  {
   "cell_type": "code",
   "execution_count": null,
   "metadata": {},
   "outputs": [],
   "source": [
    "len(redditNewsDf)"
   ]
  },
  {
   "cell_type": "code",
   "execution_count": null,
   "metadata": {},
   "outputs": [],
   "source": [
    "rows, cols = redditNewsDf.shape\n",
    "cols = cols - 2 # subtract date and label\n",
    "print('Rows =', rows)\n",
    "print('Columns =', cols)\n",
    "N = rows * cols # N = Number of documents\n",
    "print('N: number of docs = ', N)"
   ]
  },
  {
   "cell_type": "code",
   "execution_count": null,
   "metadata": {},
   "outputs": [],
   "source": [
    "parentPath = os.path.abspath('.')\n",
    "sys.path.append(parentPath)\n",
    "from RedditDJIA import RedditNewsDJIADataset, ToTensor\n",
    "rnDataset = RedditNewsDJIADataset('../Data/Reddit_News_DJIA.csv')\n",
    "for i, row in enumerate(rnDataset):\n",
    "    print(i, \"Label =\", row['label'], \"Features =\", row['features'][0])\n",
    "\n",
    "    if i == 3:\n",
    "        break\n",
    "print(type(rnDataset.dataFrame))"
   ]
  },
  {
   "cell_type": "code",
   "execution_count": 1,
   "metadata": {},
   "outputs": [
    {
     "name": "stdout",
     "output_type": "stream",
     "text": [
      "['.', '/', 'R', 'e', 'd', 'd', 'i', 't', 'D', 'J', 'I', 'A', '.', 'p', 'y']\n",
      "None\n",
      "None\n"
     ]
    }
   ],
   "source": [
    "parentPath = os.path.abspath('.')\n",
    "from RedditDJIA import CleanRedditNewsDJIA\n",
    "\n",
    "clean = CleanRedditNewsDJIA('../Data/Reddit_News_DJIA.csv')\n",
    "clean.cleanUp()"
   ]
  }
 ],
 "metadata": {
  "kernelspec": {
   "display_name": "Python 3.10.8 ('.venv': venv)",
   "language": "python",
   "name": "python3"
  },
  "language_info": {
   "codemirror_mode": {
    "name": "ipython",
    "version": 3
   },
   "file_extension": ".py",
   "mimetype": "text/x-python",
   "name": "python",
   "nbconvert_exporter": "python",
   "pygments_lexer": "ipython3",
   "version": "3.10.8"
  },
  "orig_nbformat": 4,
  "vscode": {
   "interpreter": {
    "hash": "51d32a615755070830a1e212317cdba8790c54f51db92b1c7f00b70a02f13d97"
   }
  }
 },
 "nbformat": 4,
 "nbformat_minor": 2
}
